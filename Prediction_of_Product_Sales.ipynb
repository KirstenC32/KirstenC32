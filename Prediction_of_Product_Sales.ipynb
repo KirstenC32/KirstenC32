{
  "nbformat": 4,
  "nbformat_minor": 0,
  "metadata": {
    "colab": {
      "provenance": [],
      "authorship_tag": "ABX9TyOCu9kmC9c7f/V4c27pMoHk",
      "include_colab_link": true
    },
    "kernelspec": {
      "name": "python3",
      "display_name": "Python 3"
    },
    "language_info": {
      "name": "python"
    }
  },
  "cells": [
    {
      "cell_type": "markdown",
      "metadata": {
        "id": "view-in-github",
        "colab_type": "text"
      },
      "source": [
        "<a href=\"https://colab.research.google.com/github/KirstenC32/KirstenC32/blob/main/Prediction_of_Product_Sales.ipynb\" target=\"_parent\"><img src=\"https://colab.research.google.com/assets/colab-badge.svg\" alt=\"Open In Colab\"/></a>"
      ]
    },
    {
      "cell_type": "code",
      "execution_count": null,
      "metadata": {
        "id": "W33qD2nXXPSf"
      },
      "outputs": [],
      "source": []
    },
    {
      "cell_type": "markdown",
      "source": [
        "#Prediction of Product Sales\n",
        "- Author: Kirsten Casteel"
      ],
      "metadata": {
        "id": "b88cSmXqXdCX"
      }
    },
    {
      "cell_type": "markdown",
      "source": [
        "## Project Overview"
      ],
      "metadata": {
        "id": "mxwkHm5PX6bC"
      }
    },
    {
      "cell_type": "code",
      "source": [],
      "metadata": {
        "id": "LCK5YBxlYoGD"
      },
      "execution_count": null,
      "outputs": []
    },
    {
      "cell_type": "markdown",
      "source": [
        "##Load and Inspect Data"
      ],
      "metadata": {
        "id": "OoPVyZJQYFlT"
      }
    },
    {
      "cell_type": "code",
      "source": [],
      "metadata": {
        "id": "fGPRGk7wYpKe"
      },
      "execution_count": null,
      "outputs": []
    },
    {
      "cell_type": "markdown",
      "source": [
        "##Clean Data"
      ],
      "metadata": {
        "id": "dFQtnUs5YFUl"
      }
    },
    {
      "cell_type": "code",
      "source": [],
      "metadata": {
        "id": "pwC6Rp-EYqQx"
      },
      "execution_count": null,
      "outputs": []
    },
    {
      "cell_type": "markdown",
      "source": [
        "##Exploratory Data Analysis"
      ],
      "metadata": {
        "id": "-ko8s0qAYE_Y"
      }
    },
    {
      "cell_type": "code",
      "source": [],
      "metadata": {
        "id": "R5jnAV69YraT"
      },
      "execution_count": null,
      "outputs": []
    },
    {
      "cell_type": "markdown",
      "source": [
        "##Feature Inspection"
      ],
      "metadata": {
        "id": "zST6X7pGYSKl"
      }
    },
    {
      "cell_type": "code",
      "source": [],
      "metadata": {
        "id": "WFPQSuYaYsPd"
      },
      "execution_count": null,
      "outputs": []
    }
  ]
}